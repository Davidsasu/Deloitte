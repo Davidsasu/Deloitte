{
 "cells": [
  {
   "cell_type": "markdown",
   "metadata": {},
   "source": [
    "#  Problem Description\n",
    "\n",
    "**Company ABC, a Deloitte member firm, has always been a champion of diversity and inclusion in the workplace. However, there has been some talking about the lack of diversity in Company ABC in recent days. The Talent Leader is very concerned about that and has tasked you to analyze its internal data of employees to understand whether the company has been treating its employees fairly.**\n",
    "\n",
    "### Questions\n",
    "1. In company ABC, there are 6 levels of employee hierarchy described below. Can you identify the corresponding level of each employee and hence the numbers of employees in each level?\n",
    "> *    Individual contributors (IC) – don’t manage anyone\n",
    "> *    Middle managers (MM) – the direct bosses of IC\n",
    "> *    Directors (D) – the direct bosses of MM\n",
    "> *    VP – the direct bosses of D\n",
    "> *    Executives (E) – the direct bosses of VP\n",
    "> *    CEO – the direct boss of E \n",
    "      \n",
    "2. How many people does each employee manage? You should have a table with employee IDs and the number of people being managed. You may consider that if Peter directly manages 2 people and these 2 people manage 5 people each, then we can conclude that Peter actually manages 12 people. \n",
    "\n",
    "3. Build a model that can predict the salary of each employee.\n",
    "\n",
    "4. Describe the main factors affecting the employee salaries. Do you think the company has been treating its employees fairly? Do you see any bias? What are some next steps you would suggest to the Talent Leader?"
   ]
  },
  {
   "cell_type": "code",
   "execution_count": 1,
   "metadata": {},
   "outputs": [],
   "source": [
    "import pandas as pd\n",
    "import numpy as np\n",
    "import matplotlib.pyplot as plt\n",
    "\n",
    "%matplotlib inline"
   ]
  },
  {
   "cell_type": "code",
   "execution_count": 2,
   "metadata": {},
   "outputs": [
    {
     "name": "stdout",
     "output_type": "stream",
     "text": [
      "Interview_Q1.ipynb     \u001b[31mcompany_hierarchy.csv\u001b[m\u001b[m*\r\n",
      "\u001b[31mall_employees.csv\u001b[m\u001b[m*     \u001b[31memployee.csv\u001b[m\u001b[m*\r\n"
     ]
    }
   ],
   "source": [
    "%ls"
   ]
  },
  {
   "cell_type": "markdown",
   "metadata": {},
   "source": [
    "##  Load Raw Datasets\n",
    "\n",
    "*Review the whole 3 datasets to check whether there is missing value within the datasets*"
   ]
  },
  {
   "cell_type": "code",
   "execution_count": 7,
   "metadata": {},
   "outputs": [],
   "source": [
    "df_emp = pd.read_csv('employee.csv',index_col=False)\n",
    "#df_emp.describe(include='all')\n",
    "#print(df_emp.info())\n",
    "#print('-'*20)\n",
    "#print(df_emp.head())"
   ]
  },
  {
   "cell_type": "code",
   "execution_count": 5,
   "metadata": {},
   "outputs": [],
   "source": [
    "df_cmp = pd.read_csv('company_hierarchy.csv',index_col=False)\n",
    "#print(df_cmp.info())\n",
    "#print('-'*20)\n",
    "#print(df_cmp.head())"
   ]
  },
  {
   "cell_type": "code",
   "execution_count": 6,
   "metadata": {},
   "outputs": [],
   "source": [
    "df_all = pd.read_csv('all_employees.csv',index_col=False)\n",
    "df_all.set_index('employee_id',inplace=True)\n",
    "#print(df_all.info())\n",
    "#print('-'*20)\n",
    "#print(df_all.head())"
   ]
  },
  {
   "cell_type": "markdown",
   "metadata": {},
   "source": [
    "###  Solution to question 1\n",
    "\n",
    "> * *Identify the corresponding level of each employee*"
   ]
  },
  {
   "cell_type": "code",
   "execution_count": 135,
   "metadata": {},
   "outputs": [
    {
     "name": "stdout",
     "output_type": "stream",
     "text": [
      "Please enter the employee_id: 61554\n",
      "The corresponding level of employee_id: 61554 is CEO.\n",
      "==================================================\n"
     ]
    }
   ],
   "source": [
    "def check_level(df):\n",
    "    while True:\n",
    "        key_in = input('Please enter the employee_id: ')\n",
    "        try:\n",
    "            empid = int(key_in)\n",
    "            break\n",
    "        except ValueError:\n",
    "            print ('Not a valid input, should be an integer. Try again!')\n",
    "            continue\n",
    "    \n",
    "    if empid not in df.index:\n",
    "        print ('Unidentified employee_id')\n",
    "    else:\n",
    "        print ('The corresponding level of employee_id: {} is {}.'.format(empid, df.loc[empid].level))\n",
    "\n",
    "    \n",
    "check_level(df_all)\n",
    "\n",
    "print('='*50)"
   ]
  },
  {
   "cell_type": "code",
   "execution_count": 134,
   "metadata": {},
   "outputs": [
    {
     "data": {
      "text/html": [
       "<div>\n",
       "<style scoped>\n",
       "    .dataframe tbody tr th:only-of-type {\n",
       "        vertical-align: middle;\n",
       "    }\n",
       "\n",
       "    .dataframe tbody tr th {\n",
       "        vertical-align: top;\n",
       "    }\n",
       "\n",
       "    .dataframe thead th {\n",
       "        text-align: right;\n",
       "    }\n",
       "</style>\n",
       "<table border=\"1\" class=\"dataframe\">\n",
       "  <thead>\n",
       "    <tr style=\"text-align: right;\">\n",
       "      <th></th>\n",
       "      <th>signing_bonus</th>\n",
       "      <th>salary</th>\n",
       "      <th>degree_level</th>\n",
       "      <th>sex</th>\n",
       "      <th>yrs_experience</th>\n",
       "      <th>boss_id</th>\n",
       "      <th>dept</th>\n",
       "      <th>level</th>\n",
       "      <th>n_subordinates</th>\n",
       "    </tr>\n",
       "    <tr>\n",
       "      <th>employee_id</th>\n",
       "      <th></th>\n",
       "      <th></th>\n",
       "      <th></th>\n",
       "      <th></th>\n",
       "      <th></th>\n",
       "      <th></th>\n",
       "      <th></th>\n",
       "      <th></th>\n",
       "      <th></th>\n",
       "    </tr>\n",
       "  </thead>\n",
       "  <tbody>\n",
       "    <tr>\n",
       "      <th>61554</th>\n",
       "      <td>1</td>\n",
       "      <td>700.0</td>\n",
       "      <td>PhD</td>\n",
       "      <td>M</td>\n",
       "      <td>7</td>\n",
       "      <td>-1</td>\n",
       "      <td>CEO</td>\n",
       "      <td>CEO</td>\n",
       "      <td>9999</td>\n",
       "    </tr>\n",
       "  </tbody>\n",
       "</table>\n",
       "</div>"
      ],
      "text/plain": [
       "             signing_bonus  salary degree_level sex  yrs_experience  boss_id  \\\n",
       "employee_id                                                                    \n",
       "61554                    1   700.0          PhD   M               7       -1   \n",
       "\n",
       "            dept level  n_subordinates  \n",
       "employee_id                             \n",
       "61554        CEO   CEO            9999  "
      ]
     },
     "execution_count": 134,
     "metadata": {},
     "output_type": "execute_result"
    }
   ],
   "source": [
    "df_all[df_all.index==61554]"
   ]
  },
  {
   "cell_type": "markdown",
   "metadata": {},
   "source": [
    "> * *number of employee in each level*"
   ]
  },
  {
   "cell_type": "code",
   "execution_count": 114,
   "metadata": {},
   "outputs": [
    {
     "data": {
      "text/plain": [
       "IC     9000\n",
       "MM      800\n",
       "D       160\n",
       "VP       35\n",
       "E         4\n",
       "CEO       1\n",
       "Name: level, dtype: int64"
      ]
     },
     "execution_count": 114,
     "metadata": {},
     "output_type": "execute_result"
    }
   ],
   "source": [
    "df_all['level'].value_counts()\n",
    "# or can use df_all['level'].groupby(df_all['level']).count()"
   ]
  },
  {
   "cell_type": "code",
   "execution_count": 121,
   "metadata": {},
   "outputs": [
    {
     "data": {
      "image/png": "[encoded data removed]",
      "text/plain": [
       "<Figure size 720x504 with 1 Axes>"
      ]
     },
     "metadata": {},
     "output_type": "display_data"
    }
   ],
   "source": [
    "labels = df_all['level'].astype('category').cat.categories.tolist()\n",
    "counts = df_all['level'].value_counts()\n",
    "sizes = [counts[var] for var in labels]\n",
    "fig1, ax1 = plt.subplots(figsize=(10, 7))\n",
    "ax1.pie(sizes, labels=labels, autopct='%1.2f%%', shadow=True) \n",
    "ax1.axis('equal')\n",
    "plt.show()"
   ]
  },
  {
   "cell_type": "markdown",
   "metadata": {},
   "source": [
    "###  Solution to question 2"
   ]
  },
  {
   "cell_type": "code",
   "execution_count": 137,
   "metadata": {},
   "outputs": [
    {
     "data": {
      "text/html": [
       "<div>\n",
       "<style scoped>\n",
       "    .dataframe tbody tr th:only-of-type {\n",
       "        vertical-align: middle;\n",
       "    }\n",
       "\n",
       "    .dataframe tbody tr th {\n",
       "        vertical-align: top;\n",
       "    }\n",
       "\n",
       "    .dataframe thead th {\n",
       "        text-align: right;\n",
       "    }\n",
       "</style>\n",
       "<table border=\"1\" class=\"dataframe\">\n",
       "  <thead>\n",
       "    <tr style=\"text-align: right;\">\n",
       "      <th></th>\n",
       "      <th>signing_bonus</th>\n",
       "      <th>salary</th>\n",
       "      <th>degree_level</th>\n",
       "      <th>sex</th>\n",
       "      <th>yrs_experience</th>\n",
       "      <th>boss_id</th>\n",
       "      <th>dept</th>\n",
       "      <th>level</th>\n",
       "      <th>n_subordinates</th>\n",
       "      <th>n_people_manage</th>\n",
       "    </tr>\n",
       "    <tr>\n",
       "      <th>employee_id</th>\n",
       "      <th></th>\n",
       "      <th></th>\n",
       "      <th></th>\n",
       "      <th></th>\n",
       "      <th></th>\n",
       "      <th></th>\n",
       "      <th></th>\n",
       "      <th></th>\n",
       "      <th></th>\n",
       "      <th></th>\n",
       "    </tr>\n",
       "  </thead>\n",
       "  <tbody>\n",
       "    <tr>\n",
       "      <th>138719</th>\n",
       "      <td>0</td>\n",
       "      <td>273.0</td>\n",
       "      <td>Master</td>\n",
       "      <td>M</td>\n",
       "      <td>2</td>\n",
       "      <td>43602</td>\n",
       "      <td>engineering</td>\n",
       "      <td>IC</td>\n",
       "      <td>0</td>\n",
       "      <td>0</td>\n",
       "    </tr>\n",
       "    <tr>\n",
       "      <th>3192</th>\n",
       "      <td>0</td>\n",
       "      <td>301.0</td>\n",
       "      <td>Bachelor</td>\n",
       "      <td>F</td>\n",
       "      <td>1</td>\n",
       "      <td>87847</td>\n",
       "      <td>sales</td>\n",
       "      <td>IC</td>\n",
       "      <td>0</td>\n",
       "      <td>0</td>\n",
       "    </tr>\n",
       "    <tr>\n",
       "      <th>114657</th>\n",
       "      <td>0</td>\n",
       "      <td>261.0</td>\n",
       "      <td>Master</td>\n",
       "      <td>F</td>\n",
       "      <td>2</td>\n",
       "      <td>180854</td>\n",
       "      <td>sales</td>\n",
       "      <td>IC</td>\n",
       "      <td>0</td>\n",
       "      <td>0</td>\n",
       "    </tr>\n",
       "    <tr>\n",
       "      <th>29039</th>\n",
       "      <td>0</td>\n",
       "      <td>86.0</td>\n",
       "      <td>High_School</td>\n",
       "      <td>F</td>\n",
       "      <td>4</td>\n",
       "      <td>88370</td>\n",
       "      <td>HR</td>\n",
       "      <td>IC</td>\n",
       "      <td>0</td>\n",
       "      <td>0</td>\n",
       "    </tr>\n",
       "    <tr>\n",
       "      <th>118607</th>\n",
       "      <td>0</td>\n",
       "      <td>126.0</td>\n",
       "      <td>Bachelor</td>\n",
       "      <td>F</td>\n",
       "      <td>3</td>\n",
       "      <td>23565</td>\n",
       "      <td>sales</td>\n",
       "      <td>IC</td>\n",
       "      <td>0</td>\n",
       "      <td>0</td>\n",
       "    </tr>\n",
       "  </tbody>\n",
       "</table>\n",
       "</div>"
      ],
      "text/plain": [
       "             signing_bonus  salary degree_level sex  yrs_experience  boss_id  \\\n",
       "employee_id                                                                    \n",
       "138719                   0   273.0       Master   M               2    43602   \n",
       "3192                     0   301.0     Bachelor   F               1    87847   \n",
       "114657                   0   261.0       Master   F               2   180854   \n",
       "29039                    0    86.0  High_School   F               4    88370   \n",
       "118607                   0   126.0     Bachelor   F               3    23565   \n",
       "\n",
       "                    dept level  n_subordinates  n_people_manage  \n",
       "employee_id                                                      \n",
       "138719       engineering    IC               0                0  \n",
       "3192               sales    IC               0                0  \n",
       "114657             sales    IC               0                0  \n",
       "29039                 HR    IC               0                0  \n",
       "118607             sales    IC               0                0  "
      ]
     },
     "execution_count": 137,
     "metadata": {},
     "output_type": "execute_result"
    }
   ],
   "source": [
    "n_people_managed = np.zeros((len(df_all.index),1))\n",
    "df_all['n_people_manage'] = n_people_managed\n",
    "df_all['n_people_manage'] = df_all['n_people_manage'].astype(int)\n",
    "df_all.head()"
   ]
  },
  {
   "cell_type": "code",
   "execution_count": 138,
   "metadata": {
    "collapsed": true
   },
   "outputs": [],
   "source": [
    "levels = ['MM','D','VP','E','CEO']\n",
    "\n",
    "for level in levels:\n",
    "    df_tmp = df_all[df_all['level']==level].reset_index()\n",
    "    tmp_ids=list(df_tmp['employee_id'])\n",
    "    \n",
    "    for boss_id in tmp_ids:\n",
    "        tmp = df_all.apply(lambda x: True if x['boss_id'] == boss_id else False , axis=1)\n",
    "        \n",
    "        if level =='MM':\n",
    "            n_people = len(tmp[tmp == True].index)\n",
    "            df_all.loc[boss_id,'n_people_manage'] = n_people\n",
    "        else:\n",
    "            n_people = len(tmp[tmp == True].index) + df_all[tmp==True].n_people_manage.sum()\n",
    "            df_all.loc[boss_id,'n_people_manage'] = n_people"
   ]
  },
  {
   "cell_type": "code",
   "execution_count": 139,
   "metadata": {},
   "outputs": [
    {
     "data": {
      "text/html": [
       "<div>\n",
       "<style scoped>\n",
       "    .dataframe tbody tr th:only-of-type {\n",
       "        vertical-align: middle;\n",
       "    }\n",
       "\n",
       "    .dataframe tbody tr th {\n",
       "        vertical-align: top;\n",
       "    }\n",
       "\n",
       "    .dataframe thead th {\n",
       "        text-align: right;\n",
       "    }\n",
       "</style>\n",
       "<table border=\"1\" class=\"dataframe\">\n",
       "  <thead>\n",
       "    <tr style=\"text-align: right;\">\n",
       "      <th></th>\n",
       "      <th>signing_bonus</th>\n",
       "      <th>salary</th>\n",
       "      <th>degree_level</th>\n",
       "      <th>sex</th>\n",
       "      <th>yrs_experience</th>\n",
       "      <th>boss_id</th>\n",
       "      <th>dept</th>\n",
       "      <th>level</th>\n",
       "      <th>n_subordinates</th>\n",
       "      <th>n_people_manage</th>\n",
       "    </tr>\n",
       "    <tr>\n",
       "      <th>employee_id</th>\n",
       "      <th></th>\n",
       "      <th></th>\n",
       "      <th></th>\n",
       "      <th></th>\n",
       "      <th></th>\n",
       "      <th></th>\n",
       "      <th></th>\n",
       "      <th></th>\n",
       "      <th></th>\n",
       "      <th></th>\n",
       "    </tr>\n",
       "  </thead>\n",
       "  <tbody>\n",
       "    <tr>\n",
       "      <th>93708</th>\n",
       "      <td>1</td>\n",
       "      <td>500.0</td>\n",
       "      <td>PhD</td>\n",
       "      <td>F</td>\n",
       "      <td>28</td>\n",
       "      <td>61554</td>\n",
       "      <td>HR</td>\n",
       "      <td>E</td>\n",
       "      <td>1693</td>\n",
       "      <td>1693</td>\n",
       "    </tr>\n",
       "    <tr>\n",
       "      <th>51535</th>\n",
       "      <td>1</td>\n",
       "      <td>650.0</td>\n",
       "      <td>PhD</td>\n",
       "      <td>M</td>\n",
       "      <td>33</td>\n",
       "      <td>61554</td>\n",
       "      <td>engineering</td>\n",
       "      <td>E</td>\n",
       "      <td>2695</td>\n",
       "      <td>2695</td>\n",
       "    </tr>\n",
       "    <tr>\n",
       "      <th>11277</th>\n",
       "      <td>1</td>\n",
       "      <td>550.0</td>\n",
       "      <td>Master</td>\n",
       "      <td>M</td>\n",
       "      <td>22</td>\n",
       "      <td>61554</td>\n",
       "      <td>sales</td>\n",
       "      <td>E</td>\n",
       "      <td>3598</td>\n",
       "      <td>3598</td>\n",
       "    </tr>\n",
       "    <tr>\n",
       "      <th>110464</th>\n",
       "      <td>1</td>\n",
       "      <td>550.0</td>\n",
       "      <td>Master</td>\n",
       "      <td>M</td>\n",
       "      <td>21</td>\n",
       "      <td>61554</td>\n",
       "      <td>marketing</td>\n",
       "      <td>E</td>\n",
       "      <td>2009</td>\n",
       "      <td>2009</td>\n",
       "    </tr>\n",
       "  </tbody>\n",
       "</table>\n",
       "</div>"
      ],
      "text/plain": [
       "             signing_bonus  salary degree_level sex  yrs_experience  boss_id  \\\n",
       "employee_id                                                                    \n",
       "93708                    1   500.0          PhD   F              28    61554   \n",
       "51535                    1   650.0          PhD   M              33    61554   \n",
       "11277                    1   550.0       Master   M              22    61554   \n",
       "110464                   1   550.0       Master   M              21    61554   \n",
       "\n",
       "                    dept level  n_subordinates  n_people_manage  \n",
       "employee_id                                                      \n",
       "93708                 HR     E            1693             1693  \n",
       "51535        engineering     E            2695             2695  \n",
       "11277              sales     E            3598             3598  \n",
       "110464         marketing     E            2009             2009  "
      ]
     },
     "execution_count": 139,
     "metadata": {},
     "output_type": "execute_result"
    }
   ],
   "source": [
    "df_all[df_all['level']=='E']"
   ]
  },
  {
   "cell_type": "markdown",
   "metadata": {},
   "source": [
    "###  Solution to question 3"
   ]
  },
  {
   "cell_type": "code",
   "execution_count": 61,
   "metadata": {
    "collapsed": true
   },
   "outputs": [],
   "source": [
    "import seaborn as sns"
   ]
  },
  {
   "cell_type": "code",
   "execution_count": 39,
   "metadata": {
    "collapsed": true
   },
   "outputs": [],
   "source": [
    "def plotfig(df,x,y,h):\n",
    "    fig, ax = plt.subplots(figsize=(10, 7))\n",
    "    sns.boxplot(x=x,y=y,hue=h,data=df)\n",
    "    plt.title('{} VS {}'.format(x.capitalize(),y.capitalize()), size=24)\n",
    "    plt.xlabel('{}'.format(x.capitalize()), size=18)\n",
    "    plt.ylabel('{}'.format(y.capitalize()), size=18)"
   ]
  },
  {
   "cell_type": "code",
   "execution_count": 41,
   "metadata": {},
   "outputs": [
    {
     "name": "stdout",
     "output_type": "stream",
     "text": [
      "                     salary\n",
      "dept        sex            \n",
      "CEO         M    700.000000\n",
      "HR          F     84.399811\n",
      "            M     84.827044\n",
      "engineering F    246.785395\n",
      "            M    242.444444\n",
      "marketing   F    192.502304\n",
      "            M    195.639441\n",
      "sales       F    194.618120\n",
      "            M    194.207196\n",
      "******************************\n"
     ]
    },
    {
     "name": "stderr",
     "output_type": "stream",
     "text": [
      "/anaconda/lib/python3.6/site-packages/seaborn/categorical.py:490: FutureWarning: remove_na is deprecated and is a private function. Do not use.\n",
      "  box_data = remove_na(group_data[hue_mask])\n"
     ]
    },
    {
     "data": {
      "image/png": "[encoded data removed]",
      "text/plain": [
       "<Figure size 720x504 with 1 Axes>"
      ]
     },
     "metadata": {},
     "output_type": "display_data"
    }
   ],
   "source": [
    "df_sub1 = df_all.reset_index()[['dept','salary','sex']]\n",
    "print(df_sub1.groupby(['dept','sex']).mean())\n",
    "print('*'*30)\n",
    "plotfig(df_sub1,'dept','salary','sex')"
   ]
  },
  {
   "cell_type": "code",
   "execution_count": 42,
   "metadata": {},
   "outputs": [
    {
     "name": "stdout",
     "output_type": "stream",
     "text": [
      "                      salary\n",
      "degree_level sex            \n",
      "Bachelor     F    168.774821\n",
      "             M    198.589306\n",
      "High_School  F    169.123693\n",
      "             M    198.141274\n",
      "Master       F    170.709291\n",
      "             M    197.922129\n",
      "PhD          F    175.620416\n",
      "             M    200.810259\n",
      "******************************\n"
     ]
    },
    {
     "name": "stderr",
     "output_type": "stream",
     "text": [
      "/anaconda/lib/python3.6/site-packages/seaborn/categorical.py:490: FutureWarning: remove_na is deprecated and is a private function. Do not use.\n",
      "  box_data = remove_na(group_data[hue_mask])\n"
     ]
    },
    {
     "data": {
      "image/png": "[encoded data removed]",
      "text/plain": [
       "<Figure size 720x504 with 1 Axes>"
      ]
     },
     "metadata": {},
     "output_type": "display_data"
    }
   ],
   "source": [
    "df_sub2 = df_all.reset_index()[['degree_level','salary','sex']]\n",
    "print(df_sub2.groupby(['degree_level','sex']).mean())\n",
    "print('*'*30)\n",
    "plotfig(df_sub2,'degree_level','salary','sex')"
   ]
  },
  {
   "cell_type": "code",
   "execution_count": 45,
   "metadata": {},
   "outputs": [
    {
     "name": "stdout",
     "output_type": "stream",
     "text": [
      "                        salary\n",
      "yrs_experience sex            \n",
      "1              F    163.362952\n",
      "               M    199.167994\n",
      "2              F    169.114035\n",
      "               M    199.491708\n",
      "3              F    172.455285\n",
      "               M    199.030981\n",
      "4              F    171.574074\n",
      "               M    199.061155\n",
      "5              F    173.640957\n",
      "               M    193.269287\n",
      "******************************\n"
     ]
    },
    {
     "name": "stderr",
     "output_type": "stream",
     "text": [
      "/anaconda/lib/python3.6/site-packages/seaborn/categorical.py:490: FutureWarning: remove_na is deprecated and is a private function. Do not use.\n",
      "  box_data = remove_na(group_data[hue_mask])\n"
     ]
    },
    {
     "data": {
      "image/png": "[encoded data removed]",
      "text/plain": [
       "<Figure size 720x504 with 1 Axes>"
      ]
     },
     "metadata": {},
     "output_type": "display_data"
    }
   ],
   "source": [
    "df_sub3 = df_all.reset_index()[['yrs_experience','salary','sex']]\n",
    "print(df_sub3.groupby(['yrs_experience','sex']).mean().head(10))\n",
    "print('*'*30)\n",
    "plotfig(df_sub3,'yrs_experience','salary','sex')"
   ]
  },
  {
   "cell_type": "code",
   "execution_count": 46,
   "metadata": {},
   "outputs": [
    {
     "name": "stdout",
     "output_type": "stream",
     "text": [
      "                       salary\n",
      "signing_bonus sex            \n",
      "0             F    163.398612\n",
      "              M    194.476093\n",
      "1             F    192.549121\n",
      "              M    208.562775\n",
      "******************************\n"
     ]
    },
    {
     "name": "stderr",
     "output_type": "stream",
     "text": [
      "/anaconda/lib/python3.6/site-packages/seaborn/categorical.py:490: FutureWarning: remove_na is deprecated and is a private function. Do not use.\n",
      "  box_data = remove_na(group_data[hue_mask])\n"
     ]
    },
    {
     "data": {
      "image/png": "[encoded data removed]",
      "text/plain": [
       "<Figure size 720x504 with 1 Axes>"
      ]
     },
     "metadata": {},
     "output_type": "display_data"
    }
   ],
   "source": [
    "df_sub4 = df_all.reset_index()[['signing_bonus','salary','sex']]\n",
    "print(df_sub4.groupby(['signing_bonus','sex']).mean())\n",
    "print('*'*30)\n",
    "plotfig(df_sub4,'signing_bonus','salary','sex')"
   ]
  },
  {
   "cell_type": "code",
   "execution_count": 47,
   "metadata": {},
   "outputs": [
    {
     "name": "stdout",
     "output_type": "stream",
     "text": [
      "               salary\n",
      "level sex            \n",
      "CEO   M    700.000000\n",
      "D     F    209.085106\n",
      "      M    213.699115\n",
      "E     F    500.000000\n",
      "      M    583.333333\n",
      "IC    F    169.473457\n",
      "      M    198.279340\n",
      "MM    F    182.935606\n",
      "      M    197.171642\n",
      "VP    F    259.444444\n",
      "      M    257.538462\n",
      "******************************\n"
     ]
    },
    {
     "name": "stderr",
     "output_type": "stream",
     "text": [
      "/anaconda/lib/python3.6/site-packages/seaborn/categorical.py:490: FutureWarning: remove_na is deprecated and is a private function. Do not use.\n",
      "  box_data = remove_na(group_data[hue_mask])\n"
     ]
    },
    {
     "data": {
      "image/png": "[encoded data removed]",
      "text/plain": [
       "<Figure size 720x504 with 1 Axes>"
      ]
     },
     "metadata": {},
     "output_type": "display_data"
    }
   ],
   "source": [
    "df_sub5 = df_all.reset_index()[['level','salary','sex']]\n",
    "print(df_sub5.groupby(['level','sex']).mean())\n",
    "print('*'*30)\n",
    "plotfig(df_sub5,'level','salary','sex')"
   ]
  },
  {
   "cell_type": "code",
   "execution_count": 8,
   "metadata": {},
   "outputs": [],
   "source": [
    "from sklearn.preprocessing import StandardScaler\n",
    "from sklearn.model_selection import train_test_split\n",
    "from sklearn.pipeline import Pipeline\n",
    "from sklearn.model_selection import GridSearchCV\n",
    "from sklearn.decomposition import PCA\n",
    "from sklearn.linear_model import LinearRegression\n",
    "from sklearn.svm import SVR"
   ]
  },
  {
   "cell_type": "code",
   "execution_count": 9,
   "metadata": {},
   "outputs": [],
   "source": [
    "df_model = df_all.reset_index()\n",
    "df_model = df_model[['signing_bonus','degree_level','sex','yrs_experience','dept','level','salary']]"
   ]
  },
  {
   "cell_type": "code",
   "execution_count": 10,
   "metadata": {},
   "outputs": [
    {
     "data": {
      "text/html": [
       "<div>\n",
       "<style scoped>\n",
       "    .dataframe tbody tr th:only-of-type {\n",
       "        vertical-align: middle;\n",
       "    }\n",
       "\n",
       "    .dataframe tbody tr th {\n",
       "        vertical-align: top;\n",
       "    }\n",
       "\n",
       "    .dataframe thead th {\n",
       "        text-align: right;\n",
       "    }\n",
       "</style>\n",
       "<table border=\"1\" class=\"dataframe\">\n",
       "  <thead>\n",
       "    <tr style=\"text-align: right;\">\n",
       "      <th></th>\n",
       "      <th>signing_bonus</th>\n",
       "      <th>yrs_experience</th>\n",
       "      <th>salary</th>\n",
       "      <th>degree_level_High_School</th>\n",
       "      <th>degree_level_Master</th>\n",
       "      <th>degree_level_PhD</th>\n",
       "      <th>sex_M</th>\n",
       "      <th>dept_HR</th>\n",
       "      <th>dept_engineering</th>\n",
       "      <th>dept_marketing</th>\n",
       "      <th>dept_sales</th>\n",
       "      <th>level_D</th>\n",
       "      <th>level_E</th>\n",
       "      <th>level_IC</th>\n",
       "      <th>level_MM</th>\n",
       "      <th>level_VP</th>\n",
       "    </tr>\n",
       "  </thead>\n",
       "  <tbody>\n",
       "    <tr>\n",
       "      <th>0</th>\n",
       "      <td>0</td>\n",
       "      <td>2</td>\n",
       "      <td>273.0</td>\n",
       "      <td>0</td>\n",
       "      <td>1</td>\n",
       "      <td>0</td>\n",
       "      <td>1</td>\n",
       "      <td>0</td>\n",
       "      <td>1</td>\n",
       "      <td>0</td>\n",
       "      <td>0</td>\n",
       "      <td>0</td>\n",
       "      <td>0</td>\n",
       "      <td>1</td>\n",
       "      <td>0</td>\n",
       "      <td>0</td>\n",
       "    </tr>\n",
       "    <tr>\n",
       "      <th>1</th>\n",
       "      <td>0</td>\n",
       "      <td>1</td>\n",
       "      <td>301.0</td>\n",
       "      <td>0</td>\n",
       "      <td>0</td>\n",
       "      <td>0</td>\n",
       "      <td>0</td>\n",
       "      <td>0</td>\n",
       "      <td>0</td>\n",
       "      <td>0</td>\n",
       "      <td>1</td>\n",
       "      <td>0</td>\n",
       "      <td>0</td>\n",
       "      <td>1</td>\n",
       "      <td>0</td>\n",
       "      <td>0</td>\n",
       "    </tr>\n",
       "    <tr>\n",
       "      <th>2</th>\n",
       "      <td>0</td>\n",
       "      <td>2</td>\n",
       "      <td>261.0</td>\n",
       "      <td>0</td>\n",
       "      <td>1</td>\n",
       "      <td>0</td>\n",
       "      <td>0</td>\n",
       "      <td>0</td>\n",
       "      <td>0</td>\n",
       "      <td>0</td>\n",
       "      <td>1</td>\n",
       "      <td>0</td>\n",
       "      <td>0</td>\n",
       "      <td>1</td>\n",
       "      <td>0</td>\n",
       "      <td>0</td>\n",
       "    </tr>\n",
       "    <tr>\n",
       "      <th>3</th>\n",
       "      <td>0</td>\n",
       "      <td>4</td>\n",
       "      <td>86.0</td>\n",
       "      <td>1</td>\n",
       "      <td>0</td>\n",
       "      <td>0</td>\n",
       "      <td>0</td>\n",
       "      <td>1</td>\n",
       "      <td>0</td>\n",
       "      <td>0</td>\n",
       "      <td>0</td>\n",
       "      <td>0</td>\n",
       "      <td>0</td>\n",
       "      <td>1</td>\n",
       "      <td>0</td>\n",
       "      <td>0</td>\n",
       "    </tr>\n",
       "    <tr>\n",
       "      <th>4</th>\n",
       "      <td>0</td>\n",
       "      <td>3</td>\n",
       "      <td>126.0</td>\n",
       "      <td>0</td>\n",
       "      <td>0</td>\n",
       "      <td>0</td>\n",
       "      <td>0</td>\n",
       "      <td>0</td>\n",
       "      <td>0</td>\n",
       "      <td>0</td>\n",
       "      <td>1</td>\n",
       "      <td>0</td>\n",
       "      <td>0</td>\n",
       "      <td>1</td>\n",
       "      <td>0</td>\n",
       "      <td>0</td>\n",
       "    </tr>\n",
       "  </tbody>\n",
       "</table>\n",
       "</div>"
      ],
      "text/plain": [
       "   signing_bonus  yrs_experience  salary  degree_level_High_School  \\\n",
       "0              0               2   273.0                         0   \n",
       "1              0               1   301.0                         0   \n",
       "2              0               2   261.0                         0   \n",
       "3              0               4    86.0                         1   \n",
       "4              0               3   126.0                         0   \n",
       "\n",
       "   degree_level_Master  degree_level_PhD  sex_M  dept_HR  dept_engineering  \\\n",
       "0                    1                 0      1        0                 1   \n",
       "1                    0                 0      0        0                 0   \n",
       "2                    1                 0      0        0                 0   \n",
       "3                    0                 0      0        1                 0   \n",
       "4                    0                 0      0        0                 0   \n",
       "\n",
       "   dept_marketing  dept_sales  level_D  level_E  level_IC  level_MM  level_VP  \n",
       "0               0           0        0        0         1         0         0  \n",
       "1               0           1        0        0         1         0         0  \n",
       "2               0           1        0        0         1         0         0  \n",
       "3               0           0        0        0         1         0         0  \n",
       "4               0           1        0        0         1         0         0  "
      ]
     },
     "execution_count": 10,
     "metadata": {},
     "output_type": "execute_result"
    }
   ],
   "source": [
    "df_model = pd.get_dummies(df_model,drop_first=True)\n",
    "df_model.head()"
   ]
  },
  {
   "cell_type": "code",
   "execution_count": 11,
   "metadata": {},
   "outputs": [
    {
     "data": {
      "text/html": [
       "<div>\n",
       "<style scoped>\n",
       "    .dataframe tbody tr th:only-of-type {\n",
       "        vertical-align: middle;\n",
       "    }\n",
       "\n",
       "    .dataframe tbody tr th {\n",
       "        vertical-align: top;\n",
       "    }\n",
       "\n",
       "    .dataframe thead th {\n",
       "        text-align: right;\n",
       "    }\n",
       "</style>\n",
       "<table border=\"1\" class=\"dataframe\">\n",
       "  <thead>\n",
       "    <tr style=\"text-align: right;\">\n",
       "      <th></th>\n",
       "      <th>signing_bonus</th>\n",
       "      <th>yrs_experience</th>\n",
       "      <th>degree_level_High_School</th>\n",
       "      <th>degree_level_Master</th>\n",
       "      <th>degree_level_PhD</th>\n",
       "      <th>sex_M</th>\n",
       "      <th>dept_HR</th>\n",
       "      <th>dept_engineering</th>\n",
       "      <th>dept_marketing</th>\n",
       "      <th>dept_sales</th>\n",
       "      <th>level_D</th>\n",
       "      <th>level_E</th>\n",
       "      <th>level_IC</th>\n",
       "      <th>level_MM</th>\n",
       "      <th>level_VP</th>\n",
       "    </tr>\n",
       "  </thead>\n",
       "  <tbody>\n",
       "    <tr>\n",
       "      <th>0</th>\n",
       "      <td>0</td>\n",
       "      <td>2</td>\n",
       "      <td>0</td>\n",
       "      <td>1</td>\n",
       "      <td>0</td>\n",
       "      <td>1</td>\n",
       "      <td>0</td>\n",
       "      <td>1</td>\n",
       "      <td>0</td>\n",
       "      <td>0</td>\n",
       "      <td>0</td>\n",
       "      <td>0</td>\n",
       "      <td>1</td>\n",
       "      <td>0</td>\n",
       "      <td>0</td>\n",
       "    </tr>\n",
       "    <tr>\n",
       "      <th>1</th>\n",
       "      <td>0</td>\n",
       "      <td>1</td>\n",
       "      <td>0</td>\n",
       "      <td>0</td>\n",
       "      <td>0</td>\n",
       "      <td>0</td>\n",
       "      <td>0</td>\n",
       "      <td>0</td>\n",
       "      <td>0</td>\n",
       "      <td>1</td>\n",
       "      <td>0</td>\n",
       "      <td>0</td>\n",
       "      <td>1</td>\n",
       "      <td>0</td>\n",
       "      <td>0</td>\n",
       "    </tr>\n",
       "    <tr>\n",
       "      <th>2</th>\n",
       "      <td>0</td>\n",
       "      <td>2</td>\n",
       "      <td>0</td>\n",
       "      <td>1</td>\n",
       "      <td>0</td>\n",
       "      <td>0</td>\n",
       "      <td>0</td>\n",
       "      <td>0</td>\n",
       "      <td>0</td>\n",
       "      <td>1</td>\n",
       "      <td>0</td>\n",
       "      <td>0</td>\n",
       "      <td>1</td>\n",
       "      <td>0</td>\n",
       "      <td>0</td>\n",
       "    </tr>\n",
       "    <tr>\n",
       "      <th>3</th>\n",
       "      <td>0</td>\n",
       "      <td>4</td>\n",
       "      <td>1</td>\n",
       "      <td>0</td>\n",
       "      <td>0</td>\n",
       "      <td>0</td>\n",
       "      <td>1</td>\n",
       "      <td>0</td>\n",
       "      <td>0</td>\n",
       "      <td>0</td>\n",
       "      <td>0</td>\n",
       "      <td>0</td>\n",
       "      <td>1</td>\n",
       "      <td>0</td>\n",
       "      <td>0</td>\n",
       "    </tr>\n",
       "    <tr>\n",
       "      <th>4</th>\n",
       "      <td>0</td>\n",
       "      <td>3</td>\n",
       "      <td>0</td>\n",
       "      <td>0</td>\n",
       "      <td>0</td>\n",
       "      <td>0</td>\n",
       "      <td>0</td>\n",
       "      <td>0</td>\n",
       "      <td>0</td>\n",
       "      <td>1</td>\n",
       "      <td>0</td>\n",
       "      <td>0</td>\n",
       "      <td>1</td>\n",
       "      <td>0</td>\n",
       "      <td>0</td>\n",
       "    </tr>\n",
       "  </tbody>\n",
       "</table>\n",
       "</div>"
      ],
      "text/plain": [
       "   signing_bonus  yrs_experience  degree_level_High_School  \\\n",
       "0              0               2                         0   \n",
       "1              0               1                         0   \n",
       "2              0               2                         0   \n",
       "3              0               4                         1   \n",
       "4              0               3                         0   \n",
       "\n",
       "   degree_level_Master  degree_level_PhD  sex_M  dept_HR  dept_engineering  \\\n",
       "0                    1                 0      1        0                 1   \n",
       "1                    0                 0      0        0                 0   \n",
       "2                    1                 0      0        0                 0   \n",
       "3                    0                 0      0        1                 0   \n",
       "4                    0                 0      0        0                 0   \n",
       "\n",
       "   dept_marketing  dept_sales  level_D  level_E  level_IC  level_MM  level_VP  \n",
       "0               0           0        0        0         1         0         0  \n",
       "1               0           1        0        0         1         0         0  \n",
       "2               0           1        0        0         1         0         0  \n",
       "3               0           0        0        0         1         0         0  \n",
       "4               0           1        0        0         1         0         0  "
      ]
     },
     "execution_count": 11,
     "metadata": {},
     "output_type": "execute_result"
    }
   ],
   "source": [
    "y = df_model['salary']\n",
    "X = df_model.drop(['salary'],axis=1)\n",
    "X.head()"
   ]
  },
  {
   "cell_type": "code",
   "execution_count": 52,
   "metadata": {},
   "outputs": [
    {
     "data": {
      "text/plain": [
       "[Text(0.5,0,'signing_bonus'),\n",
       " Text(1.5,0,'yrs_experience'),\n",
       " Text(2.5,0,'salary'),\n",
       " Text(3.5,0,'degree_level_High_School'),\n",
       " Text(4.5,0,'degree_level_Master'),\n",
       " Text(5.5,0,'degree_level_PhD'),\n",
       " Text(6.5,0,'sex_M'),\n",
       " Text(7.5,0,'dept_HR'),\n",
       " Text(8.5,0,'dept_engineering'),\n",
       " Text(9.5,0,'dept_marketing'),\n",
       " Text(10.5,0,'dept_sales'),\n",
       " Text(11.5,0,'level_D'),\n",
       " Text(12.5,0,'level_E'),\n",
       " Text(13.5,0,'level_IC'),\n",
       " Text(14.5,0,'level_MM'),\n",
       " Text(15.5,0,'level_VP')]"
      ]
     },
     "execution_count": 52,
     "metadata": {},
     "output_type": "execute_result"
    },
    {
     "data": {
      "image/png": "[encoded data removed]",
      "text/plain": [
       "<Figure size 1152x720 with 2 Axes>"
      ]
     },
     "metadata": {},
     "output_type": "display_data"
    }
   ],
   "source": [
    "f, ax = plt.subplots(figsize=(16, 10))\n",
    "corr = df_model.corr()\n",
    "ax = sns.heatmap(\n",
    "    corr, \n",
    "    vmin=-1, vmax=1, center=0,\n",
    "    cmap=sns.diverging_palette(40, 220, n=200),\n",
    "    square=True\n",
    ")\n",
    "ax.set_xticklabels(\n",
    "    ax.get_xticklabels(),\n",
    "    rotation=45,\n",
    "    horizontalalignment='right'\n",
    ")"
   ]
  },
  {
   "cell_type": "code",
   "execution_count": 57,
   "metadata": {},
   "outputs": [
    {
     "data": {
      "text/plain": [
       "dept_engineering            0.371571\n",
       "sex_M                       0.148761\n",
       "signing_bonus               0.105671\n",
       "level_E                     0.083953\n",
       "yrs_experience              0.051480\n",
       "level_VP                    0.045907\n",
       "dept_sales                  0.044081\n",
       "level_D                     0.033297\n",
       "dept_marketing              0.031071\n",
       "degree_level_PhD            0.018971\n",
       "level_MM                    0.011143\n",
       "degree_level_High_School   -0.005122\n",
       "degree_level_Master        -0.006755\n",
       "level_IC                   -0.040550\n",
       "dept_HR                    -0.530702\n",
       "Name: salary, dtype: float64"
      ]
     },
     "execution_count": 57,
     "metadata": {},
     "output_type": "execute_result"
    }
   ],
   "source": [
    "corr.sort_values('salary',ascending=False)['salary'][1:]"
   ]
  },
  {
   "cell_type": "code",
   "execution_count": 12,
   "metadata": {},
   "outputs": [
    {
     "name": "stdout",
     "output_type": "stream",
     "text": [
      "X_Train set shape:  (8000, 15)\n",
      "X_Test set shape:  (2000, 15)\n",
      "y_Train set shape:  (8000,)\n",
      "y_Test set shape:  (2000,)\n"
     ]
    }
   ],
   "source": [
    "X_train,X_test, y_train,y_test = train_test_split(X,y, test_size=0.2,random_state=0)\n",
    "print('X_Train set shape: ',X_train.shape)\n",
    "print('X_Test set shape: ',X_test.shape)\n",
    "print('y_Train set shape: ',y_train.shape)\n",
    "print('y_Test set shape: ',y_test.shape)"
   ]
  },
  {
   "cell_type": "code",
   "execution_count": 83,
   "metadata": {},
   "outputs": [
    {
     "name": "stdout",
     "output_type": "stream",
     "text": [
      "R^2 score = 0.3506577246160829\n",
      "{'svr__C': 100, 'svr__gamma': 0.01}\n"
     ]
    }
   ],
   "source": [
    "steps = [('scaler',StandardScaler()),('svr',SVR())]\n",
    "pipe = Pipeline(steps)\n",
    "parameteres = {'svr__C':[0.001,0.1,10,100,10e5], 'svr__gamma':[0.1,0.01]}\n",
    "grid = GridSearchCV(pipe, param_grid=parameteres, cv=5)\n",
    "grid.fit(X_train,y_train)\n",
    "print (\"R^2 score = {}\".format(grid.score(X_test,y_test)))\n",
    "print (grid.best_params_)"
   ]
  },
  {
   "cell_type": "code",
   "execution_count": null,
   "metadata": {},
   "outputs": [],
   "source": [
    "!conda install keras --yes\n",
    "import keras\n",
    "\n",
    "def build_model():\n",
    "    model = keras.Sequential([\n",
    "    keras.layers.Dense(15, activation='relu', input_shape=[15]),\n",
    "    keras.layers.Dense(6, activation='relu'),\n",
    "    keras.layers.Dense(1)])\n",
    "\n",
    "    model.compile(loss='mse',optimizer='Adam',metrics=['mae', 'mse'])\n",
    "    return model\n",
    "\n",
    "model = build_model()\n",
    "model.fit(X_train, y_train, epochs=10)"
   ]
  },
  {
   "cell_type": "code",
   "execution_count": null,
   "metadata": {},
   "outputs": [],
   "source": [
    "test_loss, test_acc = model.evaluate(X_test,  y_test, verbose=2)\n",
    "print('\\nTest accuracy:', test_acc)"
   ]
  },
  {
   "cell_type": "code",
   "execution_count": null,
   "metadata": {
    "collapsed": true
   },
   "outputs": [],
   "source": []
  }
 ],
 "metadata": {
  "kernelspec": {
   "display_name": "Python 3",
   "language": "python",
   "name": "python3"
  },
  "language_info": {
   "codemirror_mode": {
    "name": "ipython",
    "version": 3
   },
   "file_extension": ".py",
   "mimetype": "text/x-python",
   "name": "python",
   "nbconvert_exporter": "python",
   "pygments_lexer": "ipython3",
   "version": "3.7.3"
  }
 },
 "nbformat": 4,
 "nbformat_minor": 2
}
